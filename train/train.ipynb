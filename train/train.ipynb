{
 "cells": [
  {
   "cell_type": "code",
   "execution_count": 1,
   "id": "aging-motorcycle",
   "metadata": {},
   "outputs": [
    {
     "name": "stdout",
     "output_type": "stream",
     "text": [
      "/cygdrive/d/coursework/427/coursework/train\n"
     ]
    }
   ],
   "source": [
    "!pwd"
   ]
  },
  {
   "cell_type": "code",
   "execution_count": 2,
   "id": "substantial-shelf",
   "metadata": {},
   "outputs": [
    {
     "name": "stdout",
     "output_type": "stream",
     "text": [
      "['D:\\\\coursework\\\\427\\\\coursework\\\\train', 'C:\\\\Users\\\\ds\\\\AppData\\\\Local\\\\Programs\\\\Python\\\\Python38-32', 'D:\\\\conda-envs\\\\427\\\\python39.zip', 'D:\\\\conda-envs\\\\427\\\\DLLs', 'D:\\\\conda-envs\\\\427\\\\lib', 'D:\\\\conda-envs\\\\427', '', 'C:\\\\Users\\\\ds\\\\AppData\\\\Roaming\\\\Python\\\\Python39\\\\site-packages', 'D:\\\\conda-envs\\\\427\\\\lib\\\\site-packages', 'D:\\\\conda-envs\\\\427\\\\lib\\\\site-packages\\\\win32', 'D:\\\\conda-envs\\\\427\\\\lib\\\\site-packages\\\\win32\\\\lib', 'D:\\\\conda-envs\\\\427\\\\lib\\\\site-packages\\\\Pythonwin', 'D:\\\\conda-envs\\\\427\\\\lib\\\\site-packages\\\\IPython\\\\extensions', 'C:\\\\Users\\\\ds\\\\.ipython', 'D:\\\\coursework\\\\427\\\\coursework']\n"
     ]
    }
   ],
   "source": [
    "# Reload all modules (except those excluded by %aimport) every time before executing the Python code typed.\n",
    "%load_ext autoreload\n",
    "%autoreload 2\n",
    "import os\n",
    "import sys\n",
    "module_path = os.path.abspath(os.path.join('..'))\n",
    "if module_path not in sys.path:\n",
    "    sys.path.append(module_path)\n",
    "print(sys.path)\n",
    "\n",
    "import torch\n",
    "import pandas as pd\n",
    "import torch.optim as optim\n",
    "from torch.utils.data import Dataset, DataLoader\n",
    "from train_function import train\n",
    "from model.rnn_model import LSTMClassifier\n",
    "from data.data_loading import CommentLabelDataset, collate\n",
    "from utils.func import load_json_file"
   ]
  },
  {
   "cell_type": "code",
   "execution_count": 3,
   "id": "ordinary-williams",
   "metadata": {},
   "outputs": [],
   "source": [
    "device = torch.device(\"cuda\" if torch.cuda.is_available() else \"cpu\")"
   ]
  },
  {
   "cell_type": "code",
   "execution_count": 4,
   "id": "palestinian-arthur",
   "metadata": {},
   "outputs": [],
   "source": [
    "# device = 'cpu'"
   ]
  },
  {
   "cell_type": "code",
   "execution_count": 5,
   "id": "smoking-terrorism",
   "metadata": {},
   "outputs": [],
   "source": [
    "vocab_size = 39582\n",
    "SEED = 0\n",
    "BATCH_SIZE = 30\n",
    "EMB_DIM = 50\n",
    "LSTM_DIM = 5"
   ]
  },
  {
   "cell_type": "code",
   "execution_count": 6,
   "id": "dried-shipping",
   "metadata": {},
   "outputs": [
    {
     "name": "stdout",
     "output_type": "stream",
     "text": [
      "/cygdrive/d/coursework/427/coursework/train\n"
     ]
    }
   ],
   "source": [
    "!pwd"
   ]
  },
  {
   "cell_type": "code",
   "execution_count": 7,
   "id": "organized-malawi",
   "metadata": {},
   "outputs": [],
   "source": [
    "data = pd.read_pickle('../data/data_file/train_set.pkl')"
   ]
  },
  {
   "cell_type": "code",
   "execution_count": 8,
   "id": "danish-opportunity",
   "metadata": {},
   "outputs": [
    {
     "data": {
      "text/plain": [
       "comment_text         0\n",
       "processed_comment    0\n",
       "text_ids             0\n",
       "bool                 0\n",
       "target               0\n",
       "dtype: int64"
      ]
     },
     "execution_count": 8,
     "metadata": {},
     "output_type": "execute_result"
    }
   ],
   "source": [
    "data.isna().sum()"
   ]
  },
  {
   "cell_type": "code",
   "execution_count": 9,
   "id": "animated-dallas",
   "metadata": {},
   "outputs": [],
   "source": [
    "# index_word = Collator(dictionary=word_dictionary)"
   ]
  },
  {
   "cell_type": "code",
   "execution_count": 10,
   "id": "pressed-anxiety",
   "metadata": {},
   "outputs": [],
   "source": [
    "dataset =  CommentLabelDataset(data)\n",
    "data_loader = DataLoader(dataset, batch_size=BATCH_SIZE, shuffle=False, collate_fn=collate)"
   ]
  },
  {
   "cell_type": "code",
   "execution_count": 11,
   "id": "automotive-security",
   "metadata": {},
   "outputs": [
    {
     "name": "stderr",
     "output_type": "stream",
     "text": [
      "100%|████████████████████████████████████████████████████████████████████████████| 36067/36067 [09:10<00:00, 65.54it/s]"
     ]
    },
    {
     "name": "stdout",
     "output_type": "stream",
     "text": [
      "Finished Training!\n"
     ]
    },
    {
     "name": "stderr",
     "output_type": "stream",
     "text": [
      "\n"
     ]
    }
   ],
   "source": [
    "model = LSTMClassifier(vocab_size=39583,\n",
    "                       embedding_dim=50,\n",
    "                       hidden_dim=10).to(device)\n",
    "optimizer = optim.Adam(model.parameters(), lr=0.001)\n",
    "train(rnn_model=model, optimizer=optimizer, num_epochs=1,device=device, train_loader=data_loader)"
   ]
  }
 ],
 "metadata": {
  "kernelspec": {
   "display_name": "Python 3",
   "language": "python",
   "name": "python3"
  },
  "language_info": {
   "codemirror_mode": {
    "name": "ipython",
    "version": 3
   },
   "file_extension": ".py",
   "mimetype": "text/x-python",
   "name": "python",
   "nbconvert_exporter": "python",
   "pygments_lexer": "ipython3",
   "version": "3.9.2"
  }
 },
 "nbformat": 4,
 "nbformat_minor": 5
}
